{
 "cells": [
  {
   "cell_type": "code",
   "execution_count": 1,
   "metadata": {},
   "outputs": [
    {
     "name": "stdout",
     "output_type": "stream",
     "text": [
      "pygame 1.9.6\n",
      "Hello from the pygame community. https://www.pygame.org/contribute.html\n"
     ]
    },
    {
     "ename": "KeyboardInterrupt",
     "evalue": "",
     "output_type": "error",
     "traceback": [
      "\u001b[1;31m---------------------------------------------------------------------------\u001b[0m",
      "\u001b[1;31mKeyboardInterrupt\u001b[0m                         Traceback (most recent call last)",
      "\u001b[1;32m<ipython-input-1-8905b38594e6>\u001b[0m in \u001b[0;36m<module>\u001b[1;34m\u001b[0m\n\u001b[0;32m     49\u001b[0m \u001b[1;32mwhile\u001b[0m \u001b[0mrun\u001b[0m\u001b[1;33m:\u001b[0m\u001b[1;33m\u001b[0m\u001b[1;33m\u001b[0m\u001b[0m\n\u001b[0;32m     50\u001b[0m \u001b[1;33m\u001b[0m\u001b[0m\n\u001b[1;32m---> 51\u001b[1;33m     \u001b[0mpygame\u001b[0m\u001b[1;33m.\u001b[0m\u001b[0mtime\u001b[0m\u001b[1;33m.\u001b[0m\u001b[0mdelay\u001b[0m\u001b[1;33m(\u001b[0m\u001b[1;36m100\u001b[0m\u001b[1;33m)\u001b[0m\u001b[1;33m\u001b[0m\u001b[1;33m\u001b[0m\u001b[0m\n\u001b[0m\u001b[0;32m     52\u001b[0m \u001b[1;33m\u001b[0m\u001b[0m\n\u001b[0;32m     53\u001b[0m     \u001b[1;32mfor\u001b[0m \u001b[0mevent\u001b[0m \u001b[1;32min\u001b[0m \u001b[0mpygame\u001b[0m\u001b[1;33m.\u001b[0m\u001b[0mevent\u001b[0m\u001b[1;33m.\u001b[0m\u001b[0mget\u001b[0m\u001b[1;33m(\u001b[0m\u001b[1;33m)\u001b[0m\u001b[1;33m:\u001b[0m\u001b[1;33m\u001b[0m\u001b[1;33m\u001b[0m\u001b[0m\n",
      "\u001b[1;31mKeyboardInterrupt\u001b[0m: "
     ]
    }
   ],
   "source": [
    "import pygame\n",
    "\n",
    "pygame.init()\n",
    "\n",
    "#Initial Values\n",
    "win_width = 750\n",
    "win_height = 750\n",
    "rows = 5\n",
    "columns = 5\n",
    "pad = 10\n",
    "\n",
    "#Calculations\n",
    "t_width = (win_width - ((rows + 1) * pad)) // rows\n",
    "t_height = (win_height - ((columns + 1) * pad)) // columns\n",
    "\n",
    "win = pygame.display.set_mode((win_width, win_height))\n",
    "\n",
    "pygame.display.set_caption('Tic Tac Toe')\n",
    "\n",
    "white = (255, 255, 255)\n",
    "red = (255, 0, 0)\n",
    "green = (0, 255, 0)\n",
    "\n",
    "class Tile(pygame.sprite.Sprite):\n",
    "    def __init__(self):\n",
    "        pygame.sprite.Sprite.__init__(self)\n",
    "        self.image = pygame.Surface([t_width, t_height])\n",
    "        self.image.fill(white)\n",
    "        self.rect = self.image.get_rect()\n",
    "    \n",
    "tile_list = pygame.sprite.Group()\n",
    "taken_list = pygame.sprite.Group()\n",
    "    \n",
    "for row in range(rows):\n",
    "    for column in range(columns):\n",
    "        tile = Tile()\n",
    "        tile.rect.x = pad + ((t_width + pad) * row)\n",
    "        tile.rect.y = pad + ((t_height + pad) * column)\n",
    "        tile_list.add(tile)\n",
    "tile_list.draw(win)\n",
    "    \n",
    "def redraw():\n",
    "    pygame.display.update()\n",
    "    \n",
    "draw_object = 'rect'\n",
    "\n",
    "run = True\n",
    "\n",
    "while run:\n",
    "    \n",
    "    pygame.time.delay(100)\n",
    "    \n",
    "    for event in pygame.event.get():\n",
    "        if event.type == pygame.QUIT:\n",
    "            run = False\n",
    "        if event.type == pygame.KEYDOWN:\n",
    "            if event.key == pygame.K_SPACE:\n",
    "                tile_list.draw(win)\n",
    "                taken_list = pygame.sprite.Group()\n",
    "        if event.type == pygame.MOUSEBUTTONUP:\n",
    "            pos = pygame.mouse.get_pos()\n",
    "            for i in tile_list:\n",
    "                if i.rect.collidepoint(pos) and i not in taken_list:\n",
    "                    taken_list.add(i)\n",
    "                    if draw_object == 'rect':\n",
    "                        pygame.draw.rect(win, red, (i.rect.x + pad, i.rect.y + pad, t_width - (2 * pad), t_height - (2 * pad)))\n",
    "                        draw_object = 'circle'\n",
    "                    else:\n",
    "                        if t_width < t_height:\n",
    "                            pygame.draw.circle(win, green, (i.rect.center), (t_width - 2 * pad) // 2)\n",
    "                        else:\n",
    "                            pygame.draw.circle(win, green, (i.rect.center), (t_height - 2 * pad) // 2)\n",
    "                        draw_object = 'rect'\n",
    "    redraw()\n",
    "\n",
    "pygame.quit()\n"
   ]
  },
  {
   "cell_type": "code",
   "execution_count": null,
   "metadata": {},
   "outputs": [],
   "source": []
  }
 ],
 "metadata": {
  "kernelspec": {
   "display_name": "py35 (Python3)",
   "language": "python",
   "name": "py35"
  },
  "language_info": {
   "codemirror_mode": {
    "name": "ipython",
    "version": 3
   },
   "file_extension": ".py",
   "mimetype": "text/x-python",
   "name": "python",
   "nbconvert_exporter": "python",
   "pygments_lexer": "ipython3",
   "version": "3.7.7"
  }
 },
 "nbformat": 4,
 "nbformat_minor": 4
}
